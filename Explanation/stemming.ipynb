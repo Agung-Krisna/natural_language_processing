{
 "cells": [
  {
   "cell_type": "code",
   "execution_count": 10,
   "metadata": {},
   "outputs": [
    {
     "ename": "AttributeError",
     "evalue": "'list' object has no attribute 'lower'",
     "output_type": "error",
     "traceback": [
      "\u001b[1;31m---------------------------------------------------------------------------\u001b[0m",
      "\u001b[1;31mAttributeError\u001b[0m                            Traceback (most recent call last)",
      "Cell \u001b[1;32mIn [10], line 6\u001b[0m\n\u001b[0;32m      4\u001b[0m s \u001b[39m=\u001b[39m \u001b[39m\"\u001b[39m\u001b[39mhe text describes a new study that has found a link between exercise and improved brain function in older adults the study involved participants over the age of who were divided into two groups one group followed a regular exercise program while the other group did not the study found that the group that exercised had improved memory attention and decision-making abilities compared to the group that did not exercise\u001b[39m\u001b[39m\"\u001b[39m\n\u001b[0;32m      5\u001b[0m w \u001b[39m=\u001b[39m word_tokenize(s)\n\u001b[1;32m----> 6\u001b[0m stems \u001b[39m=\u001b[39m PorterStemmer()\u001b[39m.\u001b[39;49mstem(w)\n\u001b[0;32m      7\u001b[0m \u001b[39mprint\u001b[39m(stems)\n",
      "File \u001b[1;32mc:\\Users\\Lenovo\\AppData\\Local\\Programs\\Python\\Python310\\lib\\site-packages\\nltk\\stem\\porter.py:658\u001b[0m, in \u001b[0;36mPorterStemmer.stem\u001b[1;34m(self, word, to_lowercase)\u001b[0m\n\u001b[0;32m    654\u001b[0m \u001b[39mdef\u001b[39;00m \u001b[39mstem\u001b[39m(\u001b[39mself\u001b[39m, word, to_lowercase\u001b[39m=\u001b[39m\u001b[39mTrue\u001b[39;00m):\n\u001b[0;32m    655\u001b[0m     \u001b[39m\"\"\"\u001b[39;00m\n\u001b[0;32m    656\u001b[0m \u001b[39m    :param to_lowercase: if `to_lowercase=True` the word always lowercase\u001b[39;00m\n\u001b[0;32m    657\u001b[0m \u001b[39m    \"\"\"\u001b[39;00m\n\u001b[1;32m--> 658\u001b[0m     stem \u001b[39m=\u001b[39m word\u001b[39m.\u001b[39;49mlower() \u001b[39mif\u001b[39;00m to_lowercase \u001b[39melse\u001b[39;00m word\n\u001b[0;32m    660\u001b[0m     \u001b[39mif\u001b[39;00m \u001b[39mself\u001b[39m\u001b[39m.\u001b[39mmode \u001b[39m==\u001b[39m \u001b[39mself\u001b[39m\u001b[39m.\u001b[39mNLTK_EXTENSIONS \u001b[39mand\u001b[39;00m word \u001b[39min\u001b[39;00m \u001b[39mself\u001b[39m\u001b[39m.\u001b[39mpool:\n\u001b[0;32m    661\u001b[0m         \u001b[39mreturn\u001b[39;00m \u001b[39mself\u001b[39m\u001b[39m.\u001b[39mpool[stem]\n",
      "\u001b[1;31mAttributeError\u001b[0m: 'list' object has no attribute 'lower'"
     ]
    }
   ],
   "source": [
    "from nltk.stem import PorterStemmer\n",
    "from nltk.tokenize import word_tokenize\n",
    "\n",
    "s = \"he text describes a new study that has found a link between exercise and improved brain function in older adults the study involved participants over the age of who were divided into two groups one group followed a regular exercise program while the other group did not the study found that the group that exercised had improved memory attention and decision-making abilities compared to the group that did not exercise\"\n",
    "word = word_tokenize(s)\n",
    "stems = [PorterStemmer().stem(w) for w in word]\n",
    "print(stems)"
   ]
  }
 ],
 "metadata": {
  "kernelspec": {
   "display_name": "Python 3",
   "language": "python",
   "name": "python3"
  },
  "language_info": {
   "codemirror_mode": {
    "name": "ipython",
    "version": 3
   },
   "file_extension": ".py",
   "mimetype": "text/x-python",
   "name": "python",
   "nbconvert_exporter": "python",
   "pygments_lexer": "ipython3",
   "version": "3.10.5"
  },
  "orig_nbformat": 4,
  "vscode": {
   "interpreter": {
    "hash": "8c3d4d9970fc5c09c50d9318a9c7fbf4d0159e4b28833276f5678ee22bded273"
   }
  }
 },
 "nbformat": 4,
 "nbformat_minor": 2
}
