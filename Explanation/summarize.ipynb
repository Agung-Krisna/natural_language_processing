{
 "cells": [
  {
   "attachments": {},
   "cell_type": "markdown",
   "metadata": {},
   "source": [
    "# Summarize\n",
    "Summarize merupakan `method` terakhir yang bertujuan untuk memberikan hasil ringkasan (*summarization*) kepada *user*. Hasil *summarization* dapat diatur berdasarkan *threshold* yang diberikan oleh *user* melalui GUI yang telah disediakan.\n",
    "\n",
    "Berikut merupakan potongan kode dari *method* `summarize`.\n",
    "```python\n",
    "def summarize(self, top_sentence = 4):\n",
    "    summarized = \"\"\n",
    "    for i in range(top_sentence):\n",
    "        summarized += str(self.__ranked_sentence[i][1])+\" \"\n",
    "    return summarized\n",
    "```"
   ]
  },
  {
   "attachments": {},
   "cell_type": "markdown",
   "metadata": {},
   "source": [
    "Hal pertama yang perlu dilakukan adalah mendeklarasikan sebuah *string* yang akan digunakan untuk menampung hasil *summarization* yang telah dipersiapakan oleh method `ranking`.\n",
    "\n",
    "```python \n",
    "summarized = \"\"\n",
    "```"
   ]
  },
  {
   "cell_type": "code",
   "execution_count": 1,
   "metadata": {},
   "outputs": [],
   "source": [
    "summarized = \"\""
   ]
  },
  {
   "attachments": {},
   "cell_type": "markdown",
   "metadata": {},
   "source": [
    "Hal selanjutnya yang perlu dilakukan adalah melakukan iterasi terhadap seluruh kalimat yang berada pada *array* `ranked_sentence`. Jumlah iterasi yang dilakukan akan ditentukan oleh parameter `top_sentence`, dimana parameter ini dapat diatur nilainya berdasarkan keinginan pengguna.\n",
    "\n",
    "```python \n",
    "for i in range(top_sentence):\n",
    "      summarized += str(self.__ranked_sentence[i][1])+\" \"\n",
    "```"
   ]
  },
  {
   "cell_type": "code",
   "execution_count": 2,
   "metadata": {},
   "outputs": [],
   "source": [
    "top_sentence = 4\n",
    "ranked_sentence = [(0.1439918615712143, 'Overall, the study provides valuable insights into the link between exercise and brain health, and suggests that regular physical activity could be a simple and effective way to maintain cognitive function in later life.'), (0.1356393548763399, 'They suggest that promoting regular exercise as part of a healthy lifestyle could be an effective way to improve brain health in older adults and reduce the risk of age-related cognitive decline.'), (0.13286209588917067, 'This study provides evidence that regular exercise can have significant benefits for brain health in older adults.'), (0.12762305091054355, 'The study found that the group that exercised had improved memory, attention, and decision-making abilities compared to the group that did not exercise.'), (0.12732610291268934, 'The text describes a new study that has found a link between exercise and improved brain function in older adults.'), (0.09673478420275439, 'One group followed a regular exercise program, while the other group did not.'), (0.08147990126291066, 'The study involved 120 participants over the age of 60, who were divided into two groups.'), (0.07920433997856283, 'The findings suggest that maintaining an active lifestyle can help to prevent age-related cognitive decline and improve cognitive function in later life.'), (0.07513850839581449, 'The researchers involved in the study believe that their findings could have important implications for public health policy.')] ## trained from previous notebooks\n",
    "for i in range(top_sentence):\n",
    "    summarized += str(ranked_sentence[i][1]) + \" \""
   ]
  },
  {
   "attachments": {},
   "cell_type": "markdown",
   "metadata": {},
   "source": [
    "Setelah mendapatkan kalimat yang berisikan hasil dari proses *summarization*, maka hal selanjutnya yang perlu dilakukan adalah menampilkan hasil dari proses *summarization* ke pengguna.\n",
    "\n",
    "```python\n",
    "return summarized\n",
    "```"
   ]
  },
  {
   "cell_type": "code",
   "execution_count": 3,
   "metadata": {},
   "outputs": [
    {
     "name": "stdout",
     "output_type": "stream",
     "text": [
      "Overall, the study provides valuable insights into the link between exercise and brain health, and suggests that regular physical activity could be a simple and effective way to maintain cognitive function in later life. They suggest that promoting regular exercise as part of a healthy lifestyle could be an effective way to improve brain health in older adults and reduce the risk of age-related cognitive decline. This study provides evidence that regular exercise can have significant benefits for brain health in older adults. The study found that the group that exercised had improved memory, attention, and decision-making abilities compared to the group that did not exercise. \n"
     ]
    }
   ],
   "source": [
    "print(summarized)"
   ]
  }
 ],
 "metadata": {
  "kernelspec": {
   "display_name": "Python 3",
   "language": "python",
   "name": "python3"
  },
  "language_info": {
   "codemirror_mode": {
    "name": "ipython",
    "version": 3
   },
   "file_extension": ".py",
   "mimetype": "text/x-python",
   "name": "python",
   "nbconvert_exporter": "python",
   "pygments_lexer": "ipython3",
   "version": "3.10.6"
  },
  "orig_nbformat": 4,
  "vscode": {
   "interpreter": {
    "hash": "916dbcbb3f70747c44a77c7bcd40155683ae19c65e1c03b4aa3499c5328201f1"
   }
  }
 },
 "nbformat": 4,
 "nbformat_minor": 2
}
