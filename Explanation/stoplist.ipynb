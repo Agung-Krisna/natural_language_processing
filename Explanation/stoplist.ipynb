{
 "cells": [
  {
   "cell_type": "code",
   "execution_count": 2,
   "metadata": {},
   "outputs": [
    {
     "name": "stdout",
     "output_type": "stream",
     "text": [
      "{'shan', 'once', 'ain', 'wasn', 'hadn', 'further', \"couldn't\", 'had', 'having', 'who', \"wasn't\", \"you've\", 'into', 'how', 'such', 'his', 'here', 'it', \"wouldn't\", 'its', 'down', 'only', 'yourselves', 't', 'what', 'as', 'was', 'theirs', 'out', \"haven't\", 'before', 'y', 'ourselves', 'by', \"shan't\", 'until', 'haven', 'their', 'him', 'do', \"doesn't\", 'with', \"aren't\", 'to', 'you', 'mightn', 've', 'over', 'been', 'can', 'where', 'we', 'her', 'which', 'my', \"won't\", 'is', 'above', 'each', 'other', 'me', 'they', 'whom', 'ours', 'in', 'below', 'couldn', 'there', 'some', \"needn't\", 'a', \"you'll\", \"she's\", 'hers', 'up', 'ma', 'after', 'off', 'why', \"weren't\", \"that'll\", 'an', 'those', 'mustn', 'but', \"you'd\", 'again', 'i', 'same', 'of', 'she', 'or', \"mustn't\", 're', \"you're\", 'yours', 'does', 'between', 'hasn', 'myself', \"hadn't\", 'am', 'have', 'not', 'should', 'yourself', 'the', 'when', \"didn't\", 'has', 'all', 'so', 'during', 'herself', 'himself', 'wouldn', 'and', 'don', 'than', \"it's\", 'few', 'll', 'from', 'at', \"should've\", 'now', \"mightn't\", 'needn', 'against', 'more', 'be', 'no', 'm', 'any', 'through', 's', \"isn't\", 'doesn', 'that', 'isn', 'themselves', 'both', 'on', 'aren', \"hasn't\", 'will', 'just', 'then', 'o', 'these', 'doing', 'for', 'too', 'because', 'own', \"shouldn't\", 'didn', 'your', 'under', 'itself', \"don't\", 'won', 'd', 'being', 'nor', 'while', 'about', 'were', 'he', 'this', 'very', 'did', 'our', 'them', 'shouldn', 'weren', 'if', 'most', 'are'}\n"
     ]
    }
   ],
   "source": [
    "from nltk.corpus import stopwords\n",
    "\n",
    "english_stop = set(stopwords.words('english'))\n",
    "print(english_stop)"
   ]
  }
 ],
 "metadata": {
  "kernelspec": {
   "display_name": "Python 3",
   "language": "python",
   "name": "python3"
  },
  "language_info": {
   "codemirror_mode": {
    "name": "ipython",
    "version": 3
   },
   "file_extension": ".py",
   "mimetype": "text/x-python",
   "name": "python",
   "nbconvert_exporter": "python",
   "pygments_lexer": "ipython3",
   "version": "3.10.5"
  },
  "orig_nbformat": 4,
  "vscode": {
   "interpreter": {
    "hash": "8c3d4d9970fc5c09c50d9318a9c7fbf4d0159e4b28833276f5678ee22bded273"
   }
  }
 },
 "nbformat": 4,
 "nbformat_minor": 2
}
