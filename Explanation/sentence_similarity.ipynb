{
 "cells": [
  {
   "attachments": {},
   "cell_type": "markdown",
   "metadata": {},
   "source": [
    "# Sentence Similarity\n",
    "Menjelaskan mengenai bagaimana cara kemiripan dua kalimat dapat ditentukan berdasarkan jarak kosinus.\n",
    "\n",
    "Berikut merupakan potongan kode yang dimaksud\n",
    "```python\n",
    "def sentence_similarity(sentence1, sentence2):\n",
    "        sentence1 = [word for word in sentence1]\n",
    "        sentence2 = [word for word in sentence2]\n",
    "        all_words = list(set(sentence1+sentence2))\n",
    "        vector1 = [0] * len(all_words)\n",
    "        vector2 = [0] * len(all_words)\n",
    "        for w in sentence1:\n",
    "            vector1[all_words.index(w)] += 1\n",
    "        for w in sentence2:\n",
    "            vector2[all_words.index(w)] += 1\n",
    "        return 1 - cosine_distance(vector1, vector2)\n",
    "```"
   ]
  },
  {
   "attachments": {},
   "cell_type": "markdown",
   "metadata": {},
   "source": [
    "```python\n",
    "sentence1 = [word for word in sentence1]\n",
    "```\n",
    "Potongan kode ini digunakan untuk memecahkan sebuah kalimat menjadi masing-masing kata yang terdapat didalamnya.\n",
    "Potongan kode dibawah merupakan contoh keluaran dari potongan kode yang dimaksud."
   ]
  },
  {
   "cell_type": "code",
   "execution_count": 25,
   "metadata": {},
   "outputs": [
    {
     "name": "stdout",
     "output_type": "stream",
     "text": [
      "['For', 'oil', 'spots', 'on', 'the', 'floor,', 'nothing', 'beats', 'parking', 'a', 'motorbike', 'in', 'the', 'lounge.', 'Tom', 'got', 'a', 'small', 'piece', 'of', 'pie.', 'The', 'hand', 'sanitizer', 'was', 'actually', 'clear', 'glue.', 'He', 'decided', 'to', 'count', 'all', 'the', 'sand', 'on', 'the', 'beach', 'as', 'a', 'hobby.']\n"
     ]
    }
   ],
   "source": [
    "\n",
    "sentence = \"For oil spots on the floor, nothing beats parking a motorbike in the lounge. Tom got a small piece of pie. The hand sanitizer was actually clear glue. He decided to count all the sand on the beach as a hobby.\".split() ## assume that the sentence is already tokenized\n",
    "sentence1 = [word for word in sentence]\n",
    "print(sentence1)\n"
   ]
  },
  {
   "attachments": {},
   "cell_type": "markdown",
   "metadata": {},
   "source": [
    "```python3\n",
    "all_words = list(set(sentence1+sentence2))\n",
    "```\n",
    "Potongan kode diatas digunakan untuk menggabungkan seluruh kata **unik** yang berada dalam kalimat.\n",
    "Keluaran dari potongan kode ini dapat dilihat pada keluaran dibawah"
   ]
  },
  {
   "cell_type": "code",
   "execution_count": 26,
   "metadata": {},
   "outputs": [
    {
     "name": "stdout",
     "output_type": "stream",
     "text": [
      "['thing.', 'floor,', 'actually', 'character.', 'too.', 'piece', 'of', 'already', 'in', 'was', 'motorbike', 'Doubt', 'on', 'and', 'more', 'pie.', 'glue.', 'decided', 'sand', 'a', 'nothing', 'all', 'her', \"doesn't\", 'have', 'still', 'spots', 'got', 'The', 'is', 'He', 'She', \"That's\", 'count', 'anything', 'going', 'knows', 'can.', 'know', 'prove', 'beats', 'prove,', 'to', 'anyway.', 'will', 'show', 'We', 'but', 'you', 'the', 'that', \"she'll\", 'can', 'hand', 'hobby.', 'to,', 'just', 'sanitizer', 'small', 'she', 'For', 'as', \"Here's\", 'oil', 'Tom', 'beach', 'again.', 'parking', 'lounge.', 'clear', 'this']\n"
     ]
    }
   ],
   "source": [
    "sentence2 = \"Here's the thing. She doesn't have anything to prove, but she is going to anyway. That's just her character. She knows she doesn't have to, but she still will just to show you that she can. Doubt her more and she'll prove she can again. We all already know this and you will too.\".split()\n",
    "sentence2 = [word for word in sentence2]\n",
    "all_words = list(set(sentence1+sentence2))\n",
    "print(all_words)"
   ]
  },
  {
   "attachments": {},
   "cell_type": "markdown",
   "metadata": {},
   "source": [
    "```python\n",
    "vector1 = [0] * len(all_words)\n",
    "```\n",
    "Potongan kode diatas digunakan untuk menciptakan sebuah vektor yang bernilai nol (**zero vector**) dengan ukuran sebesar panjang variabel `all_words`.\n",
    "Keluaran dari potongan kode diatas dapat dilihat dibawah ini. "
   ]
  },
  {
   "cell_type": "code",
   "execution_count": 27,
   "metadata": {},
   "outputs": [
    {
     "name": "stdout",
     "output_type": "stream",
     "text": [
      "Nilai vector: [0, 0, 0, 0, 0, 0, 0, 0, 0, 0, 0, 0, 0, 0, 0, 0, 0, 0, 0, 0, 0, 0, 0, 0, 0, 0, 0, 0, 0, 0, 0, 0, 0, 0, 0, 0, 0, 0, 0, 0, 0, 0, 0, 0, 0, 0, 0, 0, 0, 0, 0, 0, 0, 0, 0, 0, 0, 0, 0, 0, 0, 0, 0, 0, 0, 0, 0, 0, 0, 0, 0], Panjang all_words 71, Panjang vector: 71\n"
     ]
    }
   ],
   "source": [
    "vector1 = [0] * len(all_words)\n",
    "vector2 = [0] * len(all_words)\n",
    "print(f\"Nilai vector: {vector1}, Panjang all_words {len(all_words)}, Panjang vector: {len(vector1)}\")"
   ]
  },
  {
   "attachments": {},
   "cell_type": "markdown",
   "metadata": {},
   "source": [
    "```python\n",
    "for w in sentence1:\n",
    "    vector1[all_words.index(w)] += 1\n",
    "```\n",
    "Potongan kode diatas digunakan untuk menentukan frekuensi kata dalam kalimat yang diberikan.\n",
    "Frekuensi setiap kata akan dimasukkan kedalam indeks vektor, sehingga vektor yang awalnya berisikan nilai nol, berubah menjadi vektor bernilai (**non-zero vector**). *Non-zero vector* merupakan bagian penting dalam algoritma `cosine_distance`.\n",
    "\n",
    "Keluaran dari potongan kode diatas dapat dilihat dibawah ini.\n"
   ]
  },
  {
   "cell_type": "code",
   "execution_count": 28,
   "metadata": {},
   "outputs": [
    {
     "name": "stdout",
     "output_type": "stream",
     "text": [
      "[0, 1, 1, 0, 0, 1, 1, 0, 1, 1, 1, 0, 2, 0, 0, 1, 1, 1, 1, 3, 1, 1, 0, 0, 0, 0, 1, 1, 1, 0, 1, 0, 0, 1, 0, 0, 0, 0, 0, 0, 1, 0, 1, 0, 0, 0, 0, 0, 0, 4, 0, 0, 0, 1, 1, 0, 0, 1, 1, 0, 1, 1, 0, 1, 1, 1, 0, 1, 1, 1, 0] [1, 0, 0, 1, 1, 0, 0, 1, 0, 0, 0, 1, 0, 2, 1, 0, 0, 0, 0, 0, 0, 1, 2, 2, 2, 1, 0, 0, 0, 1, 0, 2, 1, 0, 1, 1, 1, 1, 1, 1, 0, 1, 3, 1, 2, 1, 1, 2, 2, 1, 1, 1, 1, 0, 0, 1, 2, 0, 0, 5, 0, 0, 1, 0, 0, 0, 1, 0, 0, 0, 1]\n"
     ]
    }
   ],
   "source": [
    "for w in sentence:\n",
    "    vector1[all_words.index(w)] += 1\n",
    "for w in sentence2:\n",
    "    vector2[all_words.index(w)] += 1\n",
    "print(vector1, vector2)"
   ]
  },
  {
   "attachments": {},
   "cell_type": "markdown",
   "metadata": {},
   "source": [
    "Kini, potongan terakhir dari fungsi `sentence_similarity` adalah:\n",
    "```python\n",
    "return 1 - cosine_distance(vector1, vector2)\n",
    "```\n",
    "Potongan kode diatas bertujuan untuk mengubah hasil dari `cosine_distance` yang didapatkan melalui nilai dari kedua vektor yang diberikan menjadi sebuah *cosine similarity* dengan cara mengurangi 1 dengan hasil dari `cosine_distance`. \n",
    "Keluaran dari potongan kode diatas dapat dilihat dibawah ini"
   ]
  },
  {
   "cell_type": "code",
   "execution_count": 30,
   "metadata": {},
   "outputs": [
    {
     "name": "stdout",
     "output_type": "stream",
     "text": [
      "0.1034694240485926\n"
     ]
    }
   ],
   "source": [
    "from nltk.cluster.util import cosine_distance\n",
    "print(1 - cosine_distance(vector1, vector2))"
   ]
  }
 ],
 "metadata": {
  "kernelspec": {
   "display_name": "Python 3",
   "language": "python",
   "name": "python3"
  },
  "language_info": {
   "codemirror_mode": {
    "name": "ipython",
    "version": 3
   },
   "file_extension": ".py",
   "mimetype": "text/x-python",
   "name": "python",
   "nbconvert_exporter": "python",
   "pygments_lexer": "ipython3",
   "version": "3.10.6"
  },
  "orig_nbformat": 4,
  "vscode": {
   "interpreter": {
    "hash": "916dbcbb3f70747c44a77c7bcd40155683ae19c65e1c03b4aa3499c5328201f1"
   }
  }
 },
 "nbformat": 4,
 "nbformat_minor": 2
}
