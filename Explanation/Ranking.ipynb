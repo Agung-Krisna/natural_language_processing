{
  "metadata": {
    "language_info": {
      "codemirror_mode": {
        "name": "python",
        "version": 3
      },
      "file_extension": ".py",
      "mimetype": "text/x-python",
      "name": "python",
      "nbconvert_exporter": "python",
      "pygments_lexer": "ipython3",
      "version": "3.8"
    },
    "kernelspec": {
      "name": "python",
      "display_name": "Python (Pyodide)",
      "language": "python"
    }
  },
  "nbformat_minor": 4,
  "nbformat": 4,
  "cells": [
    {
      "cell_type": "markdown",
      "source": "# Ranking\nRanking merupakan sebubah *method* yang digunakan untuk mendapatkan nilai peringkat kepentingan suatu kalimat berdasarkan banyaknya frekuensi kata yang terdapat dalam kalimat tersebut. \n\nPada kasus ini, kami menggunakan algoritma TextRank, dimana algoritma tersebut merupakan sebuah modifikasi dari algoritma PageRank yang digunakan oleh Google untuk mendapatkan peringkat dari sebuah halaman web dalam internet. \n\nBerikut merupakan *method* yang akan dijelaskan saat ini.\n\n```python\ndef __ranking(self):\n        similarity_graph = nx.from_numpy_array(self.__similarity_matrix())\n        score = nx.pagerank(similarity_graph)\n        ranked_sentence = sorted(((score[i],s) for i,s in enumerate(self.__raw_sentence)), reverse=True)\n        self.__ranked_sentence = ranked_sentence\n```",
      "metadata": {}
    },
    {
      "cell_type": "markdown",
      "source": "Hal pertama yang perlu dilakukan dalam melakukan pencarian peringkat kalimat menggunakan TextRank adalah menciptakan sebuah **graf** yang menggunakan array Numpy yang diciptakan pada method `similarity_matrix`. Nilai pada *numpy array* akan dijadikan sebuah graf yang menggunakan **adjacency matrix**.\n\n```python\nsimilarity_graph = nx.from_numpy_array(self.__similarity_matrix())\n```",
      "metadata": {}
    },
    {
      "cell_type": "code",
      "source": "## Already explained in previous notebooks\nfrom nltk.cluster.util import cosine_distance\ndef sentence_similarity(sentence1, sentence2):\n        sentence1 = [word for word in sentence1]\n        sentence2 = [word for word in sentence2]\n        all_words = list(set(sentence1+sentence2))\n        vector1 = [0] * len(all_words)\n        vector2 = [0] * len(all_words)\n        for w in sentence1:\n            vector1[all_words.index(w)] += 1\n        for w in sentence2:\n            vector2[all_words.index(w)] += 1\n        return 1 - cosine_distance(vector1, vector2)\n\nimport numpy as np\ndef similarity_matrix(sentences):\n    similarity_matrix = np.zeros((len(sentences), len(sentences)))\n    for index1 in range(len(sentences)):\n        for index2 in range(len(sentences)):\n            if index1 == index2:\n                continue\n            similarity_matrix[index1][index2] = sentence_similarity(sentences[index1], sentences[index2])\n    return similarity_matrix",
      "metadata": {
        "trusted": true
      },
      "execution_count": 23,
      "outputs": []
    },
    {
      "cell_type": "code",
      "source": "import networkx as nx\nsentences = \"For oil spots on the floor, nothing beats parking a motorbike in the lounge. Tom got a small piece of pie. The hand sanitizer was actually clear glue. Here's the thing. She doesn't have anything to prove, but she is going to anyway. That's just her character. She knows she doesn't have to.\".split()\nsimilarity_graph = nx.from_numpy_array(similarity_matrix(sentences))\nprint(similarity_graph)",
      "metadata": {
        "trusted": true
      },
      "execution_count": 22,
      "outputs": [
        {
          "name": "stdout",
          "text": "Graph with 53 nodes and 879 edges\n",
          "output_type": "stream"
        }
      ]
    },
    {
      "cell_type": "markdown",
      "source": "Setelah menciptakan sebuah graf, hal selanjutnya yang perlu dilakukan adalah menggunakan algoritma PageRank untuk mencari kalimat yang paling penting dalam beberapa paragraf. \n\n```python\nscore = nx.pagerank(similarity_graph)\n```",
      "metadata": {}
    },
    {
      "cell_type": "code",
      "source": "import scipy\nscore = nx.pagerank(similarity_graph)\nprint(score)",
      "metadata": {
        "trusted": true
      },
      "execution_count": 24,
      "outputs": [
        {
          "name": "stdout",
          "text": "{0: 0.013264073638618985, 1: 0.01687341787174773, 2: 0.019685151847184654, 3: 0.017708810676597773, 4: 0.024363778769306246, 5: 0.016065544099709398, 6: 0.02432414127216918, 7: 0.02453289268025973, 8: 0.017874723027619038, 9: 0.01316778655753733, 10: 0.024218163126060236, 11: 0.013155132594049556, 12: 0.024363778769306246, 13: 0.022522777153703825, 14: 0.011740660788535306, 15: 0.019805019185185308, 16: 0.01316778655753733, 17: 0.013801861852264563, 18: 0.01814439012181301, 19: 0.01236659619749277, 20: 0.016511717013318543, 21: 0.018188921845412737, 22: 0.018204609595964823, 23: 0.02568793902942171, 24: 0.014664674449160874, 25: 0.01685844410459391, 26: 0.019560212352432046, 27: 0.016017272317714895, 28: 0.018759975973864678, 29: 0.024363778769306246, 30: 0.021639950016478834, 31: 0.01780494350431358, 32: 0.025885529748114963, 33: 0.021725746128206477, 34: 0.022984339343451652, 35: 0.020473806778946002, 36: 0.018285543969982766, 37: 0.011584719295154138, 38: 0.022303484610354002, 39: 0.013379372302545607, 40: 0.016740056244509277, 41: 0.020473806778946, 42: 0.013988610638092234, 43: 0.02155706929209219, 44: 0.014349409386103264, 45: 0.020246922748182402, 46: 0.022241346306516852, 47: 0.01780494350431358, 48: 0.01741623302180239, 49: 0.022303484610354002, 50: 0.02588552974811496, 51: 0.021725746128206477, 52: 0.019235373657329368}\n",
          "output_type": "stream"
        }
      ]
    },
    {
      "cell_type": "markdown",
      "source": "Setelah mendapatkan skor dari masing-masing kalimat, hal selanjutnya yang perlu dilakukan adalah melakukan sorting terhadap nilai relevansi kalimat terhadap paragraf yang diberikan. Karena kita menginginkan kalimat paling relevan (memiliki nilai paling tinggi), maka perlu menambahkan argumen `reverse=True` saat melakukan sorting menggunakan fungsi `sorted()`.\n\n```python\nranked_sentence = sorted(((score[i],s) for i,s in enumerate(self.__raw_sentence)), reverse=True)\n```",
      "metadata": {}
    },
    {
      "cell_type": "code",
      "source": "ranked_sentence = sorted (((score[i], s) for i, s in enumerate(sentences)), reverse = True)",
      "metadata": {
        "trusted": true
      },
      "execution_count": 30,
      "outputs": []
    },
    {
      "cell_type": "markdown",
      "source": "Setelah mendapatkan kalimat yang paling relevan dalam suatu paragraf, maka hal selanjutnya yang perlu dilakukan adalah menampilkan kalimat-kalimat tersebut. Pada kasus ini, kami akan hanya menampilkan kata paling relevan, hal tersebut dikarenakan paragraf yang diberikan berukuran kecil.",
      "metadata": {}
    },
    {
      "cell_type": "code",
      "source": "print(ranked_sentence)",
      "metadata": {
        "trusted": true
      },
      "execution_count": 31,
      "outputs": [
        {
          "name": "stdout",
          "text": "[(0.025885529748114963, \"doesn't\"), (0.02588552974811496, \"doesn't\"), (0.02568793902942171, 'sanitizer'), (0.02453289268025973, 'beats'), (0.024363778769306246, 'the'), (0.024363778769306246, 'the'), (0.024363778769306246, 'the'), (0.02432414127216918, 'nothing'), (0.024218163126060236, 'motorbike'), (0.022984339343451652, 'anything'), (0.022522777153703825, 'lounge.'), (0.022303484610354002, 'she'), (0.022303484610354002, 'she'), (0.022241346306516852, 'character.'), (0.021725746128206477, 'have'), (0.021725746128206477, 'have'), (0.021639950016478834, 'thing.'), (0.02155706929209219, \"That's\"), (0.020473806778946002, 'to'), (0.020473806778946, 'to'), (0.020246922748182402, 'her'), (0.019805019185185308, 'got'), (0.019685151847184654, 'spots'), (0.019560212352432046, 'clear'), (0.019235373657329368, 'to.'), (0.018759975973864678, \"Here's\"), (0.018285543969982766, 'prove,'), (0.018204609595964823, 'hand'), (0.018188921845412737, 'The'), (0.01814439012181301, 'piece'), (0.017874723027619038, 'parking'), (0.01780494350431358, 'She'), (0.01780494350431358, 'She'), (0.017708810676597773, 'on'), (0.01741623302180239, 'knows'), (0.01687341787174773, 'oil'), (0.01685844410459391, 'actually'), (0.016740056244509277, 'going'), (0.016511717013318543, 'pie.'), (0.016065544099709398, 'floor,'), (0.016017272317714895, 'glue.'), (0.014664674449160874, 'was'), (0.014349409386103264, 'just'), (0.013988610638092234, 'anyway.'), (0.013801861852264563, 'small'), (0.013379372302545607, 'is'), (0.013264073638618985, 'For'), (0.01316778655753733, 'a'), (0.01316778655753733, 'a'), (0.013155132594049556, 'in'), (0.01236659619749277, 'of'), (0.011740660788535306, 'Tom'), (0.011584719295154138, 'but')]\n",
          "output_type": "stream"
        }
      ]
    }
  ]
}